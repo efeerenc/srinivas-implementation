{
  "nbformat": 4,
  "nbformat_minor": 0,
  "metadata": {
    "colab": {
      "provenance": []
    },
    "kernelspec": {
      "name": "python3",
      "display_name": "Python 3"
    },
    "language_info": {
      "name": "python"
    }
  },
  "cells": [
    {
      "cell_type": "code",
      "execution_count": null,
      "metadata": {
        "colab": {
          "base_uri": "https://localhost:8080/"
        },
        "id": "gHTP1imTKy0x",
        "outputId": "658fdfaf-b39b-47f8-d4aa-06f212114256"
      },
      "outputs": [
        {
          "output_type": "stream",
          "name": "stdout",
          "text": [
            "Looking in indexes: https://pypi.org/simple, https://us-python.pkg.dev/colab-wheels/public/simple/\n",
            "Collecting GPy\n",
            "  Downloading GPy-1.10.0.tar.gz (959 kB)\n",
            "\u001b[K     |████████████████████████████████| 959 kB 5.0 MB/s \n",
            "\u001b[?25hRequirement already satisfied: numpy>=1.7 in /usr/local/lib/python3.8/dist-packages (from GPy) (1.21.6)\n",
            "Requirement already satisfied: six in /usr/local/lib/python3.8/dist-packages (from GPy) (1.15.0)\n",
            "Collecting paramz>=0.9.0\n",
            "  Downloading paramz-0.9.5.tar.gz (71 kB)\n",
            "\u001b[K     |████████████████████████████████| 71 kB 4.0 MB/s \n",
            "\u001b[?25hRequirement already satisfied: cython>=0.29 in /usr/local/lib/python3.8/dist-packages (from GPy) (0.29.32)\n",
            "Requirement already satisfied: scipy>=1.3.0 in /usr/local/lib/python3.8/dist-packages (from GPy) (1.7.3)\n",
            "Requirement already satisfied: decorator>=4.0.10 in /usr/local/lib/python3.8/dist-packages (from paramz>=0.9.0->GPy) (4.4.2)\n",
            "Building wheels for collected packages: GPy, paramz\n",
            "  Building wheel for GPy (setup.py) ... \u001b[?25l\u001b[?25hdone\n",
            "  Created wheel for GPy: filename=GPy-1.10.0-cp38-cp38-linux_x86_64.whl size=2783600 sha256=9c8dc0bbc8568c70a56baad8886f7fe4920b2aa2b66f7f1b20d970c77328a007\n",
            "  Stored in directory: /root/.cache/pip/wheels/48/b3/22/31f07cfd7b182ea3703151b7e5a7d6447e3e1ac6aa5c529413\n",
            "  Building wheel for paramz (setup.py) ... \u001b[?25l\u001b[?25hdone\n",
            "  Created wheel for paramz: filename=paramz-0.9.5-py3-none-any.whl size=102566 sha256=7bc75f81b6489e143ebe507f97bc594242375c0015bcecfac370dacf7151d469\n",
            "  Stored in directory: /root/.cache/pip/wheels/66/78/6c/d98cb437834de5e29381786b4ba8a77ea68cca74653ab62713\n",
            "Successfully built GPy paramz\n",
            "Installing collected packages: paramz, GPy\n",
            "Successfully installed GPy-1.10.0 paramz-0.9.5\n"
          ]
        }
      ],
      "source": [
        "!pip install GPy"
      ]
    },
    {
      "cell_type": "code",
      "source": [
        "import GPy\n",
        "import numpy as np\n",
        "import matplotlib.pyplot as plt\n",
        "import os\n",
        "import random\n",
        "from tqdm import tqdm"
      ],
      "metadata": {
        "id": "fyn8_RwCK1WR"
      },
      "execution_count": null,
      "outputs": []
    },
    {
      "cell_type": "code",
      "source": [
        "class TargetPrior():\n",
        "  \n",
        "  def __init__(self, kernel=\"sq_exp\", d_cardinal=1000):\n",
        "    self.d_cardinal = d_cardinal\n",
        "    self.X = np.linspace(0, 1, self.d_cardinal)[:, None]\n",
        "\n",
        "    self.mu = np.zeros(self.d_cardinal)\n",
        "\n",
        "    if kernel == \"sq_exp\":\n",
        "      self.k = GPy.kern.RBF(1)\n",
        "    elif kernel == \"matern\":\n",
        "      self.k = GPy.kern.Matern32(1)\n",
        "    else:\n",
        "      raise ValueError(\"Invalid kernel\")\n",
        "    self.k.lengthscale = 0.2\n",
        "\n",
        "    self.C = self.k.K(self.X, self.X)\n",
        "\n",
        "    self.Y = np.random.multivariate_normal(self.mu, self.C, 1)[0]\n",
        "  \n",
        "  def sample(self, x):\n",
        "    return self.Y[int(np.unique(x))]\n",
        "    #return np.sin(x)\n",
        "  \n",
        "  def sample_noisy(self, x):\n",
        "    return self.sample(x) + np.random.normal(0, 0)\n",
        "  \n",
        "  def best_action(self):\n",
        "    return np.argmax(self.Y)\n",
        "  \n",
        "  def best_reward(self):\n",
        "\n",
        "    best_action_idx = self.best_action()\n",
        "    return self.sample_noisy(best_action_idx)"
      ],
      "metadata": {
        "id": "aHPQKA_nMBD9"
      },
      "execution_count": null,
      "outputs": []
    },
    {
      "cell_type": "code",
      "source": [
        "class GPUCB():\n",
        "\n",
        "  def __init__(self, target, rounds=50, acquisition=\"GPUCB\", kernel=\"sq_exp\", delta=0.1, d_cardinal=1000):\n",
        "\n",
        "    self.target = target\n",
        "    self.d_cardinal = d_cardinal\n",
        "    self.interval = np.linspace(0, 1, self.d_cardinal)[:, None]\n",
        "\n",
        "    self.X = np.zeros(rounds)[:, None]\n",
        "    self.Y = np.zeros(rounds)[:, None]\n",
        "\n",
        "    self.regrets = np.zeros(rounds)\n",
        "\n",
        "    self.beta = None\n",
        "    self.delta = delta\n",
        "\n",
        "    if kernel == \"sq_exp\":\n",
        "      self.kernel = GPy.kern.RBF(1)\n",
        "    elif kernel == \"matern\":\n",
        "      self.kernel = GPy.kern.Matern32(1)\n",
        "    else:\n",
        "      raise ValueError(\"Invalid kernel\")\n",
        "\n",
        "    self.kernel.lengthscale = 0.2\n",
        "    self.kernel.fix()\n",
        "    \n",
        "    self.mu = np.zeros(self.interval.size)\n",
        "    self.sigma = np.ones(self.interval.size)/2\n",
        "\n",
        "    self.round = 1\n",
        "    self.rounds = rounds\n",
        "\n",
        "    self.acquisition = None\n",
        "\n",
        "    if acquisition == \"GPUCB\":\n",
        "      self.acquisition = self.GPUCB_next_point\n",
        "    elif acquisition == \"mean\":\n",
        "      self.acquisition = self.mean_next_point\n",
        "    elif acquisition == \"var\":\n",
        "      self.acquisition = self.var_next_point\n",
        "    else:\n",
        "      raise ValueError(\"Invalid acquisition function\")\n",
        "      \n",
        "\n",
        "  def GPUCB_next_point(self):\n",
        "\n",
        "    # Choose optimal exploration parameter (Theorem 1)\n",
        "    self.beta = 2*np.log(self.d_cardinal*(self.round**2)*(np.pi**2)/(6*self.delta))\n",
        "    \n",
        "    # Choose an action according to the exploration parameter\n",
        "    action_idx = np.argmax(self.mu + np.sqrt(self.beta)*self.sigma)\n",
        "    action = self.interval[action_idx]\n",
        "\n",
        "    return action, action_idx\n",
        "\n",
        "\n",
        "  def mean_next_point(self):\n",
        "    \n",
        "    # Choose an action according to the mean\n",
        "    action_idx = np.argmax(self.mu)\n",
        "    action = self.interval[action_idx]\n",
        "\n",
        "    return action, action_idx\n",
        "\n",
        "\n",
        "  def var_next_point(self):\n",
        "\n",
        "    # Choose an action according to the std\n",
        "    action_idx = np.argmax(self.sigma)\n",
        "    action = self.interval[action_idx]\n",
        "\n",
        "    return action, action_idx\n",
        "\n",
        "  \n",
        "  def update(self, plotting=False):\n",
        "\n",
        "    # Get optimal next action according to the acquisition function\n",
        "    action, action_idx = self.acquisition()\n",
        "\n",
        "    # Get noisy feedback\n",
        "    reward = self.target.sample_noisy(action_idx)\n",
        "\n",
        "    # Store for Bayesian update\n",
        "    self.X[self.round-1] = action\n",
        "    self.Y[self.round-1] = reward\n",
        "\n",
        "    # GP Regression\n",
        "    gp_model = GPy.models.GPRegression(self.X[:self.round], self.Y[:self.round], self.kernel)\n",
        "    gp_model.optimize()\n",
        "\n",
        "    # Update parameters\n",
        "    self.mu, var = gp_model.predict(self.interval)\n",
        "    self.sigma = np.sqrt(var)\n",
        "\n",
        "    # Compute regret for this round\n",
        "    best_reward = self.target.best_reward()\n",
        "    regret = best_reward - reward\n",
        "\n",
        "    # Store regret\n",
        "    self.regrets[self.round-1] = regret\n",
        "\n",
        "    if plotting:\n",
        "      self.plot(self.X[:self.round], self.Y[:self.round])\n",
        "\n",
        "    # Proceed to the next round\n",
        "    self.round += 1\n",
        "  \n",
        "\n",
        "  def train(self, update_plot=False, train_plot=False, no_print=True):\n",
        "\n",
        "    for i in tqdm(range(self.rounds), disable=no_print):\n",
        "      self.update(update_plot)\n",
        "    \n",
        "    if train_plot:\n",
        "      self.plot(self.X, self.Y)\n",
        "\n",
        "  \n",
        "  def plot(self, X, Y):\n",
        "\n",
        "    plt.figure()\n",
        "    plt.plot(self.target.X, self.target.Y)\n",
        "    plt.plot(X, Y, \"ro\")\n",
        "    plt.show()\n"
      ],
      "metadata": {
        "id": "i1VsSV_sNmZf"
      },
      "execution_count": null,
      "outputs": []
    },
    {
      "cell_type": "code",
      "source": [
        "def avg_regret(regret):\n",
        "  cumulative = np.cumsum(regret)\n",
        "  avg_regret = np.divide(cumulative, np.linspace(1, len(cumulative), len(cumulative)))\n",
        "  return avg_regret"
      ],
      "metadata": {
        "id": "vifre0m5HyYb"
      },
      "execution_count": null,
      "outputs": []
    },
    {
      "cell_type": "code",
      "source": [
        "def min_regret(regret):\n",
        "  return np.minimum.accumulate(regret)"
      ],
      "metadata": {
        "id": "lIlSHx-9Ia5J"
      },
      "execution_count": null,
      "outputs": []
    },
    {
      "cell_type": "code",
      "source": [
        "def reproducibility(seed):\n",
        "    np.random.seed(seed)\n",
        "    random.seed(seed)\n",
        "    os.environ['PYTHONHASHSEED'] = str(seed)"
      ],
      "metadata": {
        "id": "fs4ZGeicruNd"
      },
      "execution_count": null,
      "outputs": []
    },
    {
      "cell_type": "code",
      "source": [
        "rounds = 100\n",
        "experiments = 30\n",
        "kernel = \"matern\"\n",
        "\n",
        "reproducibility(0)\n",
        "\n",
        "acquisitions = [\"GPUCB\", \"mean\", \"var\"]\n",
        "avg_regrets = np.zeros((len(acquisitions), rounds))\n",
        "min_regrets = np.zeros((len(acquisitions), rounds))\n",
        "\n",
        "for i in range(3):\n",
        "  acquisition = acquisitions[i]\n",
        "\n",
        "  for j in tqdm(range(experiments), disable=False):\n",
        "    target = TargetPrior(kernel=kernel)\n",
        "    gp_agent = GPUCB(target, rounds=rounds, kernel=kernel, acquisition=acquisition)\n",
        "    gp_agent.train()\n",
        "    regret = gp_agent.regrets\n",
        "    avg_regrets[i, :] += avg_regret(regret)\n",
        "    min_regrets[i, :] += min_regret(regret)\n",
        "\n",
        "  avg_regrets[i, :] /= experiments\n",
        "  min_regrets[i, :] /= experiments"
      ],
      "metadata": {
        "colab": {
          "base_uri": "https://localhost:8080/"
        },
        "id": "hFMTEBTtr3Rt",
        "outputId": "d68966f1-c31f-4675-d071-686400951b6e"
      },
      "execution_count": null,
      "outputs": [
        {
          "output_type": "stream",
          "name": "stderr",
          "text": [
            "100%|██████████| 30/30 [04:11<00:00,  8.38s/it]\n",
            "100%|██████████| 30/30 [04:05<00:00,  8.18s/it]\n",
            "100%|██████████| 30/30 [03:41<00:00,  7.39s/it]\n"
          ]
        }
      ]
    },
    {
      "cell_type": "code",
      "source": [
        "plt.figure()\n",
        "plt.title(f\"Mean average regret over {rounds} iterations \\n in {experiments} experiments \\n with {kernel} kernel\")\n",
        "plt.xlabel(\"Iterations\")\n",
        "plt.ylabel(\"Mean average regret\")\n",
        "plt.plot(np.arange(rounds), avg_regrets[0, :], label=\"GPUCB\")\n",
        "plt.plot(np.arange(rounds), avg_regrets[1, :], label=\"mean\")\n",
        "plt.plot(np.arange(rounds), avg_regrets[2, :], label=\"var\")\n",
        "plt.legend()\n",
        "plt.show()\n",
        "\n",
        "plt.figure()\n",
        "plt.title(f\"Mean minimum regret over {rounds} iterations in {experiments} experiments \\n with {kernel} kernel\")\n",
        "plt.xlabel(\"Iterations\")\n",
        "plt.ylabel(\"Mean minimum regret\")\n",
        "plt.plot(np.arange(rounds), min_regrets[0, :], label=\"GPUCB\")\n",
        "plt.plot(np.arange(rounds), min_regrets[1, :], label=\"mean\")\n",
        "plt.plot(np.arange(rounds), min_regrets[2, :], label=\"var\")\n",
        "plt.legend()\n",
        "plt.show()"
      ],
      "metadata": {
        "colab": {
          "base_uri": "https://localhost:8080/",
          "height": 618
        },
        "id": "VRpn4Cfn5vic",
        "outputId": "b9122265-147d-4742-ab03-6c204d12afd8"
      },
      "execution_count": null,
      "outputs": [
        {
          "output_type": "display_data",
          "data": {
            "text/plain": [
              "<Figure size 432x288 with 1 Axes>"
            ],
            "image/png": "[encoded data removed]"
          },
          "metadata": {
            "needs_background": "light"
          }
        },
        {
          "output_type": "display_data",
          "data": {
            "text/plain": [
              "<Figure size 432x288 with 1 Axes>"
            ],
            "image/png": "[encoded data removed]"
          },
          "metadata": {
            "needs_background": "light"
          }
        }
      ]
    },
    {
      "cell_type": "code",
      "source": [
        "gp_agent.train()"
      ],
      "metadata": {
        "colab": {
          "base_uri": "https://localhost:8080/",
          "height": 282
        },
        "id": "mxN3ONC-bNod",
        "outputId": "e538d424-2d67-43ed-8033-b1a6e703c710"
      },
      "execution_count": null,
      "outputs": [
        {
          "output_type": "stream",
          "name": "stderr",
          "text": [
            "100%|██████████| 50/50 [00:03<00:00, 14.54it/s]\n"
          ]
        },
        {
          "output_type": "display_data",
          "data": {
            "text/plain": [
              "<Figure size 432x288 with 1 Axes>"
            ],
            "image/png": "[encoded data removed]"
          },
          "metadata": {
            "needs_background": "light"
          }
        }
      ]
    }
  ]
}